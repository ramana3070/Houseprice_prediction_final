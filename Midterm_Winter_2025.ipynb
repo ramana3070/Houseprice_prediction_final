{
  "nbformat": 4,
  "nbformat_minor": 0,
  "metadata": {
    "colab": {
      "provenance": [],
      "include_colab_link": true
    },
    "kernelspec": {
      "name": "python3",
      "display_name": "Python 3"
    },
    "language_info": {
      "name": "python"
    }
  },
  "cells": [
    {
      "cell_type": "markdown",
      "metadata": {
        "id": "view-in-github",
        "colab_type": "text"
      },
      "source": [
        "<a href=\"https://colab.research.google.com/github/ramana3070/Houseprice_prediction_final/blob/main/Midterm_Winter_2025.ipynb\" target=\"_parent\"><img src=\"https://colab.research.google.com/assets/colab-badge.svg\" alt=\"Open In Colab\"/></a>"
      ]
    },
    {
      "cell_type": "markdown",
      "source": [
        "# Midterm Exam - Winter 2025\n",
        "\n",
        "Save this notebook to your own area.\n",
        "Rename the notebook and user your name for the new name of the notebook.\n",
        "Make sure that the notebook is available to anybody with the address.\n",
        "\n",
        "In your exam (in paper) you will find two lines of python code.\n",
        "Insert them at the beginning of the main portion of the code.\n",
        "Right after this line:\n",
        "\n",
        "if __name__ == \"__main__\":\n",
        "\n",
        "The code, as it is in the initial state of the notebook, will not run.\n",
        "It will run, after you insert those two lines of code.\n",
        "\n",
        "After you correct the code, the code will report an execution time and it will produce a plot."
      ],
      "metadata": {
        "id": "5XDsA5JJZ28j"
      }
    },
    {
      "cell_type": "code",
      "execution_count": null,
      "metadata": {
        "colab": {
          "base_uri": "https://localhost:8080/",
          "height": 452
        },
        "id": "E4XlIj_0ZymC",
        "outputId": "1a1d0c6a-3209-484d-b66e-6e90e92f74b1"
      },
      "outputs": [
        {
          "output_type": "stream",
          "name": "stdout",
          "text": [
            "Calculation for size  1500  took:  82.57037615776062\n"
          ]
        },
        {
          "output_type": "display_data",
          "data": {
            "text/plain": [
              "<Figure size 640x480 with 2 Axes>"
            ],
            "image/png": "[encoded data removed]"
          },
          "metadata": {}
        }
      ],
      "source": [
        "# Sequential approximate Voronoi\n",
        "\n",
        "import numpy as np\n",
        "import matplotlib.pyplot as plt\n",
        "import time\n",
        "\n",
        "\n",
        "\n",
        "def calculate_voronoi(size,seeds):\n",
        "  area = np.zeros((size,size))\n",
        "  for i in range(size):\n",
        "    for j in range(size):\n",
        "      closest_seed = -1\n",
        "      closest_distance = size*size\n",
        "      for k in range(len(seeds)):\n",
        "        point1 = np.array([float(seeds[k][0]),float(seeds[k][1])])\n",
        "        point2 = np.array((float(i),float(j)))\n",
        "        temp = point1 - point2\n",
        "        sum_sq = np.sum(np.square(temp))\n",
        "        dist = np.sqrt(sum_sq)\n",
        "        if dist < closest_distance:\n",
        "          closest_distance = dist\n",
        "          closest_seed = k\n",
        "      area[i][j] = closest_seed\n",
        "  return area\n",
        "\n",
        "\n",
        "\n",
        "if __name__ == \"__main__\":\n",
        "  # Insert the 2 lines that you will find in your exam here:\n",
        "  size=1500\n",
        "  seeds=np.array([[0,size//2],[size//4,size//2],[size//2,size//2],[(size*3)//4,size//2]])\n",
        "\n",
        "\n",
        "  start = time.time()\n",
        "  area = calculate_voronoi(size,seeds)\n",
        "  end = time.time()\n",
        "  elapsed = end - start\n",
        "  print(\"Calculation for size \",size,\" took: \",elapsed)\n",
        "  plt.imshow(area, cmap='viridis')\n",
        "  plt.colorbar()\n",
        "  plt.show()"
      ]
    },
    {
      "cell_type": "markdown",
      "source": [
        "Now we will install the library that will allow us to profile the code"
      ],
      "metadata": {
        "id": "4QJSenKybopy"
      }
    },
    {
      "cell_type": "code",
      "source": [
        "!pip install line_profiler"
      ],
      "metadata": {
        "colab": {
          "base_uri": "https://localhost:8080/"
        },
        "id": "-CbZ4dyKbt-S",
        "outputId": "4f8c83e4-dd2f-4a79-f559-8b76cc7d9468"
      },
      "execution_count": null,
      "outputs": [
        {
          "output_type": "stream",
          "name": "stdout",
          "text": [
            "Collecting line_profiler\n",
            "  Downloading line_profiler-4.2.0-cp311-cp311-manylinux_2_17_x86_64.manylinux2014_x86_64.whl.metadata (34 kB)\n",
            "Downloading line_profiler-4.2.0-cp311-cp311-manylinux_2_17_x86_64.manylinux2014_x86_64.whl (750 kB)\n",
            "\u001b[2K   \u001b[90m━━━━━━━━━━━━━━━━━━━━━━━━━━━━━━━━━━━━━━━━\u001b[0m \u001b[32m750.2/750.2 kB\u001b[0m \u001b[31m11.0 MB/s\u001b[0m eta \u001b[36m0:00:00\u001b[0m\n",
            "\u001b[?25hInstalling collected packages: line_profiler\n",
            "Successfully installed line_profiler-4.2.0\n"
          ]
        }
      ]
    },
    {
      "cell_type": "markdown",
      "source": [],
      "metadata": {
        "id": "bh3VGZ1pb5LL"
      }
    },
    {
      "cell_type": "markdown",
      "source": [
        "Repeat the process of inserting the two lines of code in the cell below.\n",
        "This cell contains  the  decorator\n",
        "@profile\n",
        "right before this line of code:\n",
        "\n",
        "def calculate_voronoi(size,seeds):\n",
        "\n",
        "This will allow you to profile the execution of the program."
      ],
      "metadata": {
        "id": "V0wdsfoKcd7S"
      }
    },
    {
      "cell_type": "code",
      "source": [
        "%%writefile voronoi.py\n",
        "# Sequential approximate Voronoi\n",
        "\n",
        "import numpy as np\n",
        "import matplotlib.pyplot as plt\n",
        "import time\n",
        "\n",
        "\n",
        "@profile\n",
        "def calculate_voronoi(size,seeds):\n",
        "  area = np.zeros((size,size))\n",
        "  for i in range(size):\n",
        "    for j in range(size):\n",
        "      closest_seed = -1\n",
        "      closest_distance = size*size\n",
        "      for k in range(len(seeds)):\n",
        "        point1 = np.array([float(seeds[k][0]),float(seeds[k][1])])\n",
        "        point2 = np.array((float(i),float(j)))\n",
        "        temp = point1 - point2\n",
        "        sum_sq = np.sum(np.square(temp))\n",
        "        dist = np.sqrt(sum_sq)\n",
        "        if dist < closest_distance:\n",
        "          closest_distance = dist\n",
        "          closest_seed = k\n",
        "      area[i][j] = closest_seed\n",
        "  return area\n",
        "\n",
        "\n",
        "\n",
        "if __name__ == \"__main__\":\n",
        "  # Insert the 2 lines that you will find in your exam here:\n",
        "  size=1500\n",
        "  seeds=np.array([[0,size//2],[size//4,size//2],[size//2,size//2],[(size*3)//4,size//2]])\n",
        "\n",
        "  start = time.time()\n",
        "  area = calculate_voronoi(size,seeds)\n",
        "  end = time.time()\n",
        "  elapsed = end - start\n",
        "  print(\"Calculation for size \",size,\" took: \",elapsed)\n",
        "  plt.imshow(area, cmap='viridis')\n",
        "  plt.colorbar()\n",
        "  plt.show()"
      ],
      "metadata": {
        "colab": {
          "base_uri": "https://localhost:8080/"
        },
        "id": "4Ta8nR8leJ5z",
        "outputId": "3d6c1699-0cf8-4cf0-e654-0c6356267ae3"
      },
      "execution_count": null,
      "outputs": [
        {
          "output_type": "stream",
          "name": "stdout",
          "text": [
            "Writing voronoi.py\n"
          ]
        }
      ]
    },
    {
      "cell_type": "markdown",
      "source": [
        "Now, profile the code:"
      ],
      "metadata": {
        "id": "AizG_8eueXRC"
      }
    },
    {
      "cell_type": "code",
      "source": [
        "!kernprof -l voronoi.py"
      ],
      "metadata": {
        "colab": {
          "base_uri": "https://localhost:8080/"
        },
        "id": "sSm6DSYLeZhK",
        "outputId": "a62564d1-b9a0-4c95-c3ae-247d95afe8a9"
      },
      "execution_count": null,
      "outputs": [
        {
          "output_type": "stream",
          "name": "stdout",
          "text": [
            "Calculation for size  1500  took:  190.60920548439026\n",
            "Figure(640x480)\n",
            "Wrote profile results to voronoi.py.lprof\n",
            "Inspect results with:\n",
            "python3 -m line_profiler -rmt \"voronoi.py.lprof\"\n"
          ]
        }
      ]
    },
    {
      "cell_type": "markdown",
      "source": [
        "Now we will look at the result of profiling the code:\n"
      ],
      "metadata": {
        "id": "IY7ELDZ-fBM6"
      }
    },
    {
      "cell_type": "code",
      "source": [
        "!python3 -m line_profiler -rmt  \"voronoi.py.lprof\""
      ],
      "metadata": {
        "colab": {
          "base_uri": "https://localhost:8080/"
        },
        "id": "FyoWkdRnfFeq",
        "outputId": "37a038cd-4085-4592-ee19-0d640753c177"
      },
      "execution_count": null,
      "outputs": [
        {
          "output_type": "stream",
          "name": "stdout",
          "text": [
            "Timer unit: 1e-06 s\n",
            "\n",
            "Total time: 154.848 s\n",
            "File: voronoi.py\n",
            "Function: calculate_voronoi at line 8\n",
            "\n",
            "Line #      Hits         Time  Per Hit   % Time  Line Contents\n",
            "==============================================================\n",
            "     \u001b[1;36m8\u001b[0m                                           \u001b[92;49m@profile\u001b[0m                                           \n",
            "     \u001b[1;36m9\u001b[0m                                           \u001b[96;49mdef\u001b[0m\u001b[97;49m \u001b[0m\u001b[92;49mcalculate_voronoi\u001b[0m\u001b[97;49m(\u001b[0m\u001b[97;49msize\u001b[0m\u001b[97;49m,\u001b[0m\u001b[97;49mseeds\u001b[0m\u001b[97;49m)\u001b[0m\u001b[97;49m:\u001b[0m                 \n",
            "    \u001b[1;36m10\u001b[0m         \u001b[1;36m1\u001b[0m         \u001b[1;36m25.0\u001b[0m     \u001b[1;36m25.0\u001b[0m      \u001b[1;36m0.0\u001b[0m  \u001b[97;49m  \u001b[0m\u001b[97;49marea\u001b[0m\u001b[97;49m \u001b[0m\u001b[91;49m=\u001b[0m\u001b[97;49m \u001b[0m\u001b[97;49mnp\u001b[0m\u001b[91;49m.\u001b[0m\u001b[97;49mzeros\u001b[0m\u001b[97;49m(\u001b[0m\u001b[97;49m(\u001b[0m\u001b[97;49msize\u001b[0m\u001b[97;49m,\u001b[0m\u001b[97;49msize\u001b[0m\u001b[97;49m)\u001b[0m\u001b[97;49m)\u001b[0m                     \n",
            "    \u001b[1;36m11\u001b[0m      \u001b[1;36m1501\u001b[0m        \u001b[1;36m538.8\u001b[0m      \u001b[1;36m0.4\u001b[0m      \u001b[1;36m0.0\u001b[0m  \u001b[97;49m  \u001b[0m\u001b[96;49mfor\u001b[0m\u001b[97;49m \u001b[0m\u001b[97;49mi\u001b[0m\u001b[97;49m \u001b[0m\u001b[91;49min\u001b[0m\u001b[97;49m \u001b[0m\u001b[97;49mrange\u001b[0m\u001b[97;49m(\u001b[0m\u001b[97;49msize\u001b[0m\u001b[97;49m)\u001b[0m\u001b[97;49m:\u001b[0m                            \n",
            "    \u001b[1;36m12\u001b[0m   \u001b[1;36m2251500\u001b[0m     \u001b[1;36m695139.1\u001b[0m      \u001b[1;36m0.3\u001b[0m      \u001b[1;36m0.4\u001b[0m  \u001b[97;49m    \u001b[0m\u001b[96;49mfor\u001b[0m\u001b[97;49m \u001b[0m\u001b[97;49mj\u001b[0m\u001b[97;49m \u001b[0m\u001b[91;49min\u001b[0m\u001b[97;49m \u001b[0m\u001b[97;49mrange\u001b[0m\u001b[97;49m(\u001b[0m\u001b[97;49msize\u001b[0m\u001b[97;49m)\u001b[0m\u001b[97;49m:\u001b[0m                          \n",
            "    \u001b[1;36m13\u001b[0m   \u001b[1;36m2250000\u001b[0m     \u001b[1;36m564440.1\u001b[0m      \u001b[1;36m0.3\u001b[0m      \u001b[1;36m0.4\u001b[0m  \u001b[97;49m      \u001b[0m\u001b[97;49mclosest_seed\u001b[0m\u001b[97;49m \u001b[0m\u001b[91;49m=\u001b[0m\u001b[97;49m \u001b[0m\u001b[91;49m-\u001b[0m\u001b[37;49m1\u001b[0m                            \n",
            "    \u001b[1;36m14\u001b[0m   \u001b[1;36m2250000\u001b[0m     \u001b[1;36m870303.2\u001b[0m      \u001b[1;36m0.4\u001b[0m      \u001b[1;36m0.6\u001b[0m  \u001b[97;49m      \u001b[0m\u001b[97;49mclosest_distance\u001b[0m\u001b[97;49m \u001b[0m\u001b[91;49m=\u001b[0m\u001b[97;49m \u001b[0m\u001b[97;49msize\u001b[0m\u001b[91;49m*\u001b[0m\u001b[97;49msize\u001b[0m                 \n",
            "    \u001b[1;36m15\u001b[0m  \u001b[1;36m11250000\u001b[0m    \u001b[1;36m4886694.5\u001b[0m      \u001b[1;36m0.4\u001b[0m      \u001b[1;36m3.2\u001b[0m  \u001b[97;49m      \u001b[0m\u001b[96;49mfor\u001b[0m\u001b[97;49m \u001b[0m\u001b[97;49mk\u001b[0m\u001b[97;49m \u001b[0m\u001b[91;49min\u001b[0m\u001b[97;49m \u001b[0m\u001b[97;49mrange\u001b[0m\u001b[97;49m(\u001b[0m\u001b[97;49mlen\u001b[0m\u001b[97;49m(\u001b[0m\u001b[97;49mseeds\u001b[0m\u001b[97;49m)\u001b[0m\u001b[97;49m)\u001b[0m\u001b[97;49m:\u001b[0m                  \n",
            "    \u001b[1;36m16\u001b[0m   \u001b[1;36m9000000\u001b[0m   \u001b[1;36m21223134.3\u001b[0m      \u001b[1;36m2.4\u001b[0m     \u001b[1;36m13.7\u001b[0m  \u001b[97;49m        \u001b[0m\u001b[97;49mpoint1\u001b[0m\u001b[97;49m \u001b[0m\u001b[91;49m=\u001b[0m\u001b[97;49m \u001b[0m\u001b[97;49mnp\u001b[0m\u001b[91;49m.\u001b[0m\u001b[97;49marray\u001b[0m\u001b[97;49m(\u001b[0m\u001b[97;49m[\u001b[0m\u001b[97;49mfloat\u001b[0m\u001b[97;49m(\u001b[0m\u001b[97;49mseeds\u001b[0m\u001b[97;49m[\u001b[0m\u001b[97;49mk\u001b[0m\u001b[97;49m]\u001b[0m\u001b[97;49m[\u001b[0m\u001b[37;49m0\u001b[0m\u001b[97;49m]\u001b[0m\u001b[97;49m)\u001b[0m\u001b[97;49m,\u001b[0m\u001b[97;49mfloa…\u001b[0m\n",
            "    \u001b[1;36m17\u001b[0m   \u001b[1;36m9000000\u001b[0m   \u001b[1;36m12083575.0\u001b[0m      \u001b[1;36m1.3\u001b[0m      \u001b[1;36m7.8\u001b[0m  \u001b[97;49m        \u001b[0m\u001b[97;49mpoint2\u001b[0m\u001b[97;49m \u001b[0m\u001b[91;49m=\u001b[0m\u001b[97;49m \u001b[0m\u001b[97;49mnp\u001b[0m\u001b[91;49m.\u001b[0m\u001b[97;49marray\u001b[0m\u001b[97;49m(\u001b[0m\u001b[97;49m(\u001b[0m\u001b[97;49mfloat\u001b[0m\u001b[97;49m(\u001b[0m\u001b[97;49mi\u001b[0m\u001b[97;49m)\u001b[0m\u001b[97;49m,\u001b[0m\u001b[97;49mfloat\u001b[0m\u001b[97;49m(\u001b[0m\u001b[97;49mj\u001b[0m\u001b[97;49m)\u001b[0m\u001b[97;49m)\u001b[0m\u001b[97;49m)\u001b[0m     \n",
            "    \u001b[1;36m18\u001b[0m   \u001b[1;36m9000000\u001b[0m   \u001b[1;36m10593508.6\u001b[0m      \u001b[1;36m1.2\u001b[0m      \u001b[1;36m6.8\u001b[0m  \u001b[97;49m        \u001b[0m\u001b[97;49mtemp\u001b[0m\u001b[97;49m \u001b[0m\u001b[91;49m=\u001b[0m\u001b[97;49m \u001b[0m\u001b[97;49mpoint1\u001b[0m\u001b[97;49m \u001b[0m\u001b[91;49m-\u001b[0m\u001b[97;49m \u001b[0m\u001b[97;49mpoint2\u001b[0m                     \n",
            "    \u001b[1;36m19\u001b[0m   \u001b[1;36m9000000\u001b[0m   \u001b[1;36m80114558.7\u001b[0m      \u001b[1;36m8.9\u001b[0m     \u001b[1;36m51.7\u001b[0m  \u001b[97;49m        \u001b[0m\u001b[97;49msum_sq\u001b[0m\u001b[97;49m \u001b[0m\u001b[91;49m=\u001b[0m\u001b[97;49m \u001b[0m\u001b[97;49mnp\u001b[0m\u001b[91;49m.\u001b[0m\u001b[97;49msum\u001b[0m\u001b[97;49m(\u001b[0m\u001b[97;49mnp\u001b[0m\u001b[91;49m.\u001b[0m\u001b[97;49msquare\u001b[0m\u001b[97;49m(\u001b[0m\u001b[97;49mtemp\u001b[0m\u001b[97;49m)\u001b[0m\u001b[97;49m)\u001b[0m           \n",
            "    \u001b[1;36m20\u001b[0m   \u001b[1;36m9000000\u001b[0m   \u001b[1;36m14063637.6\u001b[0m      \u001b[1;36m1.6\u001b[0m      \u001b[1;36m9.1\u001b[0m  \u001b[97;49m        \u001b[0m\u001b[97;49mdist\u001b[0m\u001b[97;49m \u001b[0m\u001b[91;49m=\u001b[0m\u001b[97;49m \u001b[0m\u001b[97;49mnp\u001b[0m\u001b[91;49m.\u001b[0m\u001b[97;49msqrt\u001b[0m\u001b[97;49m(\u001b[0m\u001b[97;49msum_sq\u001b[0m\u001b[97;49m)\u001b[0m                     \n",
            "    \u001b[1;36m21\u001b[0m   \u001b[1;36m9000000\u001b[0m    \u001b[1;36m3747979.8\u001b[0m      \u001b[1;36m0.4\u001b[0m      \u001b[1;36m2.4\u001b[0m  \u001b[97;49m        \u001b[0m\u001b[96;49mif\u001b[0m\u001b[97;49m \u001b[0m\u001b[97;49mdist\u001b[0m\u001b[97;49m \u001b[0m\u001b[91;49m<\u001b[0m\u001b[97;49m \u001b[0m\u001b[97;49mclosest_distance\u001b[0m\u001b[97;49m:\u001b[0m                \n",
            "    \u001b[1;36m22\u001b[0m   \u001b[1;36m6466500\u001b[0m    \u001b[1;36m1878106.2\u001b[0m      \u001b[1;36m0.3\u001b[0m      \u001b[1;36m1.2\u001b[0m  \u001b[97;49m          \u001b[0m\u001b[97;49mclosest_distance\u001b[0m\u001b[97;49m \u001b[0m\u001b[91;49m=\u001b[0m\u001b[97;49m \u001b[0m\u001b[97;49mdist\u001b[0m                  \n",
            "    \u001b[1;36m23\u001b[0m   \u001b[1;36m6466500\u001b[0m    \u001b[1;36m1922841.2\u001b[0m      \u001b[1;36m0.3\u001b[0m      \u001b[1;36m1.2\u001b[0m  \u001b[97;49m          \u001b[0m\u001b[97;49mclosest_seed\u001b[0m\u001b[97;49m \u001b[0m\u001b[91;49m=\u001b[0m\u001b[97;49m \u001b[0m\u001b[97;49mk\u001b[0m                         \n",
            "    \u001b[1;36m24\u001b[0m   \u001b[1;36m2250000\u001b[0m    \u001b[1;36m2203127.7\u001b[0m      \u001b[1;36m1.0\u001b[0m      \u001b[1;36m1.4\u001b[0m  \u001b[97;49m      \u001b[0m\u001b[97;49marea\u001b[0m\u001b[97;49m[\u001b[0m\u001b[97;49mi\u001b[0m\u001b[97;49m]\u001b[0m\u001b[97;49m[\u001b[0m\u001b[97;49mj\u001b[0m\u001b[97;49m]\u001b[0m\u001b[97;49m \u001b[0m\u001b[91;49m=\u001b[0m\u001b[97;49m \u001b[0m\u001b[97;49mclosest_seed\u001b[0m                    \n",
            "    \u001b[1;36m25\u001b[0m         \u001b[1;36m1\u001b[0m          \u001b[1;36m0.2\u001b[0m      \u001b[1;36m0.2\u001b[0m      \u001b[1;36m0.0\u001b[0m  \u001b[97;49m  \u001b[0m\u001b[96;49mreturn\u001b[0m\u001b[97;49m \u001b[0m\u001b[97;49marea\u001b[0m                                      \n",
            "\n",
            "\n",
            "154.85 seconds - voronoi.py:8 - calculate_voronoi\n"
          ]
        }
      ]
    },
    {
      "cell_type": "markdown",
      "source": [
        "In your exam, there is a table to be filled. Write the answers to these questions:\n",
        "To answer how many times a line was executed, look at the column labeled \"Hits\"\n",
        "1. How many times was line 11 executed?\n",
        "2. How many times was line 12 executed?\n",
        "3. How many times was line 15 executed?\n",
        "4. How many times was line 19 executed?\n",
        "5. How many times was line 24 executed?\n",
        "\n",
        "To answer the following questions, look at the column labeled \"Time\"\n",
        "6. How much time was spent executing line 11?\n",
        "7. How much time was spent executing line 12?\n",
        "8. How much time was spent executing line 15?\n",
        "9. How much time was spent executing line 19?\n",
        "10. How much time was spent executing line 24?\n",
        "\n",
        "\n",
        "\n"
      ],
      "metadata": {
        "id": "1RWS_cZ_furr"
      }
    },
    {
      "cell_type": "markdown",
      "source": [
        "Lines 11 through 24 can be parallelized. Add the percentages of execution times for lines 11 through 24.\n",
        "Convert the sum of those percentages into a portion between 0 and 1 by diving by 100. That is the portion of the code that is parallelizable.\n",
        "\n",
        "Using this simplified version of Amdahl's law\n",
        "\n",
        "S = 1 / ( 1 - ParallelizablePortionOfTheCode)\n",
        "\n",
        "Based on Amdahl's law, what is the maximum speedup for the function calculate Voronoi?"
      ],
      "metadata": {
        "id": "2qs5EnOZiMVh"
      }
    },
    {
      "cell_type": "markdown",
      "source": [
        "Now, use numba to compile the code and to parallelize it.\n",
        "\n",
        "Start by adding the same two instructions that you added in the code cell 1.\n",
        "\n",
        "As you did in project 2, add the proper decorator and the proper prange statement to make numba compile the code and parallelize it."
      ],
      "metadata": {
        "id": "TC1GDNOA7OvK"
      }
    },
    {
      "cell_type": "code",
      "source": [
        "\n",
        "# Approximate Voronoi\n",
        "\n",
        "import numpy as np\n",
        "import matplotlib.pyplot as plt\n",
        "import time\n",
        "import numba\n",
        "\n",
        "\n",
        "\n",
        "def calculate_voronoi(size,seeds):\n",
        "  area = np.zeros((size,size))\n",
        "  for i in range(size):\n",
        "    for j in range(size):\n",
        "      closest_seed = -1\n",
        "      closest_distance = size*size\n",
        "      for k in range(len(seeds)):\n",
        "        point1 = np.array([float(seeds[k][0]),float(seeds[k][1])])\n",
        "        point2 = np.array((float(i),float(j)))\n",
        "        temp = point1 - point2\n",
        "        sum_sq = np.sum(np.square(temp))\n",
        "        dist = np.sqrt(sum_sq)\n",
        "        if dist < closest_distance:\n",
        "          closest_distance = dist\n",
        "          closest_seed = k\n",
        "      area[i][j] = closest_seed\n",
        "  return area\n",
        "\n",
        "\n",
        "\n",
        "if __name__ == \"__main__\":\n",
        "  # Insert the 2 lines that you will find in your exam here:\n",
        "  size=1500\n",
        "  seeds=np.array([[0,size//2],[size//4,size//2],[size//2,size//2],[(size*3)//4,size//2]])\n",
        "\n",
        "\n",
        "  start = time.time()\n",
        "  area = calculate_voronoi(size,seeds)\n",
        "  end = time.time()\n",
        "  elapsed = end - start\n",
        "  print(\"Calculation for size \",size,\" took: \",elapsed)\n",
        "  plt.imshow(area, cmap='viridis')\n",
        "  plt.colorbar()\n",
        "  plt.show()"
      ],
      "metadata": {
        "colab": {
          "base_uri": "https://localhost:8080/",
          "height": 452
        },
        "id": "wNfzCU-9l7wL",
        "outputId": "00a098f8-999a-4175-8606-3a05de4aeb87"
      },
      "execution_count": null,
      "outputs": [
        {
          "output_type": "stream",
          "name": "stdout",
          "text": [
            "Calculation for size  1500  took:  83.29390621185303\n"
          ]
        },
        {
          "output_type": "display_data",
          "data": {
            "text/plain": [
              "<Figure size 640x480 with 2 Axes>"
            ],
            "image/png": "[encoded data removed]"
          },
          "metadata": {}
        }
      ]
    }
  ]
}
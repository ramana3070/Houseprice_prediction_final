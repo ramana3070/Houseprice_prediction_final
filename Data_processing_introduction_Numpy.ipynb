{
  "nbformat": 4,
  "nbformat_minor": 0,
  "metadata": {
    "colab": {
      "provenance": [],
      "include_colab_link": true
    },
    "kernelspec": {
      "name": "python3",
      "display_name": "Python 3"
    },
    "language_info": {
      "name": "python"
    }
  },
  "cells": [
    {
      "cell_type": "markdown",
      "metadata": {
        "id": "view-in-github",
        "colab_type": "text"
      },
      "source": [
        "<a href=\"https://colab.research.google.com/github/ramana3070/Houseprice_prediction_final/blob/main/Data_processing_introduction_Numpy.ipynb\" target=\"_parent\"><img src=\"https://colab.research.google.com/assets/colab-badge.svg\" alt=\"Open In Colab\"/></a>"
      ]
    },
    {
      "cell_type": "markdown",
      "source": [
        "NumPy stands for \"**Numerical Python**\", a very poplular and widely used data processing library!"
      ],
      "metadata": {
        "id": "b3rR_kwnI5UF"
      }
    },
    {
      "cell_type": "markdown",
      "source": [
        "![numpy.png](data:image/png;base64,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)"
      ],
      "metadata": {
        "id": "LOcaARD-XzeG"
      }
    },
    {
      "cell_type": "markdown",
      "source": [
        "**Machine Learning with Python Cookbook: Practical Solutions from Preprocessing to Deep Learning by Chris Albon**"
      ],
      "metadata": {
        "id": "zVzHl7twLqX5"
      }
    },
    {
      "cell_type": "markdown",
      "source": [
        "# Loading the Numpy package"
      ],
      "metadata": {
        "id": "UeXLZn-FPvCD"
      }
    },
    {
      "cell_type": "code",
      "source": [
        "import numpy as np"
      ],
      "metadata": {
        "id": "zrNQTbIhP040"
      },
      "execution_count": 110,
      "outputs": []
    },
    {
      "cell_type": "markdown",
      "source": [
        "## You can use Numpy Array to create/define Vectors or Matrices."
      ],
      "metadata": {
        "id": "VZD07zzaP4Dt"
      }
    },
    {
      "cell_type": "code",
      "source": [
        "row_vector = np.array([1, 2, 3])\n",
        "column_vector = np.array([[1],\n",
        "                          [2],\n",
        "                          [3]])"
      ],
      "metadata": {
        "id": "JDx0TonXI_M0"
      },
      "execution_count": 111,
      "outputs": []
    },
    {
      "cell_type": "code",
      "source": [
        "row_vector"
      ],
      "metadata": {
        "colab": {
          "base_uri": "https://localhost:8080/"
        },
        "id": "RPImm60l_Qem",
        "outputId": "47d27e47-5e30-422d-af5d-5a1477c4c12a"
      },
      "execution_count": 112,
      "outputs": [
        {
          "output_type": "execute_result",
          "data": {
            "text/plain": [
              "array([1, 2, 3])"
            ]
          },
          "metadata": {},
          "execution_count": 112
        }
      ]
    },
    {
      "cell_type": "code",
      "source": [
        "column_vector"
      ],
      "metadata": {
        "colab": {
          "base_uri": "https://localhost:8080/"
        },
        "id": "IDgZh4zf_SeS",
        "outputId": "78cbff0e-18fd-408e-c8ad-14dc2cafdb13"
      },
      "execution_count": 113,
      "outputs": [
        {
          "output_type": "execute_result",
          "data": {
            "text/plain": [
              "array([[1],\n",
              "       [2],\n",
              "       [3]])"
            ]
          },
          "metadata": {},
          "execution_count": 113
        }
      ]
    },
    {
      "cell_type": "code",
      "source": [
        "row_vector.shape"
      ],
      "metadata": {
        "colab": {
          "base_uri": "https://localhost:8080/"
        },
        "id": "-mVJoOKmNXdm",
        "outputId": "a8e8d366-4e76-4e75-8398-cccb94c40905"
      },
      "execution_count": 114,
      "outputs": [
        {
          "output_type": "execute_result",
          "data": {
            "text/plain": [
              "(3,)"
            ]
          },
          "metadata": {},
          "execution_count": 114
        }
      ]
    },
    {
      "cell_type": "code",
      "source": [
        "column_vector.shape"
      ],
      "metadata": {
        "colab": {
          "base_uri": "https://localhost:8080/"
        },
        "id": "QvCWA09lNhm9",
        "outputId": "bb69c70e-7587-4a78-d13d-5b12e43909b0"
      },
      "execution_count": 115,
      "outputs": [
        {
          "output_type": "execute_result",
          "data": {
            "text/plain": [
              "(3, 1)"
            ]
          },
          "metadata": {},
          "execution_count": 115
        }
      ]
    },
    {
      "cell_type": "code",
      "source": [
        "column_vector.T.shape"
      ],
      "metadata": {
        "colab": {
          "base_uri": "https://localhost:8080/"
        },
        "id": "CymxCHzxNvHz",
        "outputId": "d0b12b43-9ef6-43ef-8eda-cef5006f7b76"
      },
      "execution_count": 116,
      "outputs": [
        {
          "output_type": "execute_result",
          "data": {
            "text/plain": [
              "(1, 3)"
            ]
          },
          "metadata": {},
          "execution_count": 116
        }
      ]
    },
    {
      "cell_type": "markdown",
      "source": [
        "**Defining a Matrix (using Numpy Array)**"
      ],
      "metadata": {
        "id": "_gb_tX9gJTao"
      }
    },
    {
      "cell_type": "code",
      "source": [
        "matrix = np.array([[1, 2],\n",
        "                   [1, 2],\n",
        "                   [1, 2]])"
      ],
      "metadata": {
        "id": "3KJqcVHyJG5G"
      },
      "execution_count": 117,
      "outputs": []
    },
    {
      "cell_type": "code",
      "source": [
        "matrix.shape"
      ],
      "metadata": {
        "colab": {
          "base_uri": "https://localhost:8080/"
        },
        "id": "aIzaSiNmN9Fi",
        "outputId": "bac33206-b489-42da-acbf-cb54716bb6e6"
      },
      "execution_count": 118,
      "outputs": [
        {
          "output_type": "execute_result",
          "data": {
            "text/plain": [
              "(3, 2)"
            ]
          },
          "metadata": {},
          "execution_count": 118
        }
      ]
    },
    {
      "cell_type": "markdown",
      "source": [
        "**Creating a Zero Vector**"
      ],
      "metadata": {
        "id": "0Jv1BVM5Rwb5"
      }
    },
    {
      "cell_type": "code",
      "source": [
        "vector = np.zeros(shape=(3))\n",
        "vector"
      ],
      "metadata": {
        "colab": {
          "base_uri": "https://localhost:8080/"
        },
        "id": "zDXG_3l-JtFL",
        "outputId": "4ab66ee0-7ab5-485f-fe54-e5fc91d66bab"
      },
      "execution_count": 119,
      "outputs": [
        {
          "output_type": "execute_result",
          "data": {
            "text/plain": [
              "array([0., 0., 0.])"
            ]
          },
          "metadata": {},
          "execution_count": 119
        }
      ]
    },
    {
      "cell_type": "markdown",
      "source": [
        "**Creating a Matrix will all zero elements**"
      ],
      "metadata": {
        "id": "eeSI4rJ0SA_K"
      }
    },
    {
      "cell_type": "code",
      "source": [
        "matrix = np.zeros(shape=(3, 3))\n",
        "matrix"
      ],
      "metadata": {
        "colab": {
          "base_uri": "https://localhost:8080/"
        },
        "id": "QuJGSgyDSL5-",
        "outputId": "43f6b293-35dc-4761-9c79-800a9377735b"
      },
      "execution_count": 120,
      "outputs": [
        {
          "output_type": "execute_result",
          "data": {
            "text/plain": [
              "array([[0., 0., 0.],\n",
              "       [0., 0., 0.],\n",
              "       [0., 0., 0.]])"
            ]
          },
          "metadata": {},
          "execution_count": 120
        }
      ]
    },
    {
      "cell_type": "markdown",
      "source": [
        "**All 1s Matrix/Vectors**"
      ],
      "metadata": {
        "id": "_UiAQIQhR6kS"
      }
    },
    {
      "cell_type": "code",
      "source": [
        "matrix = np.ones(shape=(3,2))\n",
        "matrix"
      ],
      "metadata": {
        "colab": {
          "base_uri": "https://localhost:8080/"
        },
        "id": "F4JxVrx1KAUz",
        "outputId": "e99b3fb1-ec8e-449d-8c53-6aeef07029c0"
      },
      "execution_count": 121,
      "outputs": [
        {
          "output_type": "execute_result",
          "data": {
            "text/plain": [
              "array([[1., 1.],\n",
              "       [1., 1.],\n",
              "       [1., 1.]])"
            ]
          },
          "metadata": {},
          "execution_count": 121
        }
      ]
    },
    {
      "cell_type": "markdown",
      "source": [
        "**Accessing Vector/Matrix (Array) elements**"
      ],
      "metadata": {
        "id": "LOsE5WwEKNkb"
      }
    },
    {
      "cell_type": "code",
      "source": [
        "matrix = np.array([[1, 2, 3],\n",
        "                   [4, 6, 5],\n",
        "                   [-1, 0, 4]])\n",
        "matrix[0, 1]"
      ],
      "metadata": {
        "colab": {
          "base_uri": "https://localhost:8080/"
        },
        "id": "eSpCedDXKSu8",
        "outputId": "3482670c-db83-46e1-d964-d0c7cb97e369"
      },
      "execution_count": 122,
      "outputs": [
        {
          "output_type": "execute_result",
          "data": {
            "text/plain": [
              "np.int64(2)"
            ]
          },
          "metadata": {},
          "execution_count": 122
        }
      ]
    },
    {
      "cell_type": "code",
      "source": [
        "matrix[0][1]"
      ],
      "metadata": {
        "colab": {
          "base_uri": "https://localhost:8080/"
        },
        "id": "FjO2Nle1Urp4",
        "outputId": "9b9dde3f-590c-44f0-c104-e605c7e87e8c"
      },
      "execution_count": 123,
      "outputs": [
        {
          "output_type": "execute_result",
          "data": {
            "text/plain": [
              "np.int64(2)"
            ]
          },
          "metadata": {},
          "execution_count": 123
        }
      ]
    },
    {
      "cell_type": "markdown",
      "source": [
        "**Slice operation**"
      ],
      "metadata": {
        "id": "duoirD3VKfBX"
      }
    },
    {
      "cell_type": "code",
      "source": [
        "# all rows, third column\n",
        "matrix[:, 2]"
      ],
      "metadata": {
        "colab": {
          "base_uri": "https://localhost:8080/"
        },
        "id": "7X5lATMdS0uk",
        "outputId": "6e3b8dd1-7a39-493c-9672-c8062da963cf"
      },
      "execution_count": 124,
      "outputs": [
        {
          "output_type": "execute_result",
          "data": {
            "text/plain": [
              "array([3, 5, 4])"
            ]
          },
          "metadata": {},
          "execution_count": 124
        }
      ]
    },
    {
      "cell_type": "code",
      "source": [
        "# all rows, the last column\n",
        "matrix[:, -1]"
      ],
      "metadata": {
        "colab": {
          "base_uri": "https://localhost:8080/"
        },
        "id": "U_BB-toUVAyu",
        "outputId": "3079aaa4-7e81-40c4-b085-297ef7d59909"
      },
      "execution_count": 125,
      "outputs": [
        {
          "output_type": "execute_result",
          "data": {
            "text/plain": [
              "array([3, 5, 4])"
            ]
          },
          "metadata": {},
          "execution_count": 125
        }
      ]
    },
    {
      "cell_type": "code",
      "source": [
        "# all rows, first two columns\n",
        "matrix[:, :2]"
      ],
      "metadata": {
        "colab": {
          "base_uri": "https://localhost:8080/"
        },
        "id": "CQ_qyTLtKh7-",
        "outputId": "d4afae61-f73d-47a3-ef69-1ff2de7f6b2d"
      },
      "execution_count": 126,
      "outputs": [
        {
          "output_type": "execute_result",
          "data": {
            "text/plain": [
              "array([[ 1,  2],\n",
              "       [ 4,  6],\n",
              "       [-1,  0]])"
            ]
          },
          "metadata": {},
          "execution_count": 126
        }
      ]
    },
    {
      "cell_type": "markdown",
      "source": [
        "**Some properties of an Array/Matrix**"
      ],
      "metadata": {
        "id": "J-XfPKWKKskB"
      }
    },
    {
      "cell_type": "code",
      "source": [
        "# size of the matrix, shape of it, and number of dimensions\n",
        "matrix.size, matrix.shape, matrix.ndim"
      ],
      "metadata": {
        "colab": {
          "base_uri": "https://localhost:8080/"
        },
        "id": "z55VpHobKsLO",
        "outputId": "0be0ebe0-21ed-4d2b-ccbc-f4d4b20bfd31"
      },
      "execution_count": 127,
      "outputs": [
        {
          "output_type": "execute_result",
          "data": {
            "text/plain": [
              "(9, (3, 3), 2)"
            ]
          },
          "metadata": {},
          "execution_count": 127
        }
      ]
    },
    {
      "cell_type": "markdown",
      "source": [
        "## **Operations on Array/Vector/Matrix**"
      ],
      "metadata": {
        "id": "hWB3QUp8K5En"
      }
    },
    {
      "cell_type": "code",
      "source": [
        "matrix"
      ],
      "metadata": {
        "colab": {
          "base_uri": "https://localhost:8080/"
        },
        "id": "emOqH6_RTelR",
        "outputId": "e44f0ad5-490b-4ab2-9ace-21687d74e1f4"
      },
      "execution_count": 128,
      "outputs": [
        {
          "output_type": "execute_result",
          "data": {
            "text/plain": [
              "array([[ 1,  2,  3],\n",
              "       [ 4,  6,  5],\n",
              "       [-1,  0,  4]])"
            ]
          },
          "metadata": {},
          "execution_count": 128
        }
      ]
    },
    {
      "cell_type": "code",
      "source": [
        "# min and max of the entire matrix\n",
        "np.min(matrix), np.max(matrix)"
      ],
      "metadata": {
        "colab": {
          "base_uri": "https://localhost:8080/"
        },
        "id": "LSQAe17uKzul",
        "outputId": "88c502ab-f1f7-4aca-997c-6b194dc5d1d2"
      },
      "execution_count": 129,
      "outputs": [
        {
          "output_type": "execute_result",
          "data": {
            "text/plain": [
              "(np.int64(-1), np.int64(6))"
            ]
          },
          "metadata": {},
          "execution_count": 129
        }
      ]
    },
    {
      "cell_type": "code",
      "source": [
        "# min and max at columns level\n",
        "np.min(matrix, axis=0), np.max(matrix, axis=0)"
      ],
      "metadata": {
        "colab": {
          "base_uri": "https://localhost:8080/"
        },
        "id": "JWSCxRG1K9rI",
        "outputId": "67c93cb4-5aae-4d0a-eeb0-bed70790f5dc"
      },
      "execution_count": 130,
      "outputs": [
        {
          "output_type": "execute_result",
          "data": {
            "text/plain": [
              "(array([-1,  0,  3]), array([4, 6, 5]))"
            ]
          },
          "metadata": {},
          "execution_count": 130
        }
      ]
    },
    {
      "cell_type": "code",
      "source": [
        "# min and max at rows level\n",
        "np.min(matrix, axis=1), np.max(matrix, axis=1)"
      ],
      "metadata": {
        "colab": {
          "base_uri": "https://localhost:8080/"
        },
        "id": "bBPqriwjV9fr",
        "outputId": "3a0ea671-a13e-49c4-c009-59f2ea6bf924"
      },
      "execution_count": 131,
      "outputs": [
        {
          "output_type": "execute_result",
          "data": {
            "text/plain": [
              "(array([ 1,  4, -1]), array([3, 6, 4]))"
            ]
          },
          "metadata": {},
          "execution_count": 131
        }
      ]
    },
    {
      "cell_type": "code",
      "source": [
        "# (mean, std) of all elements\n",
        "np.mean(matrix), np.std(matrix)"
      ],
      "metadata": {
        "colab": {
          "base_uri": "https://localhost:8080/"
        },
        "id": "yDQuN7c3LGJl",
        "outputId": "365858a7-a651-4755-d62a-e45efa62da68"
      },
      "execution_count": 132,
      "outputs": [
        {
          "output_type": "execute_result",
          "data": {
            "text/plain": [
              "(np.float64(2.6666666666666665), np.float64(2.211083193570267))"
            ]
          },
          "metadata": {},
          "execution_count": 132
        }
      ]
    },
    {
      "cell_type": "code",
      "source": [
        "# column-wise (mean, std)\n",
        "np.mean(matrix, axis=0), np.std(matrix, axis=0)"
      ],
      "metadata": {
        "colab": {
          "base_uri": "https://localhost:8080/"
        },
        "id": "NUObmxS7XHmN",
        "outputId": "3085131b-4770-4d74-846a-ba269f65955e"
      },
      "execution_count": 133,
      "outputs": [
        {
          "output_type": "execute_result",
          "data": {
            "text/plain": [
              "(array([1.33333333, 2.66666667, 4.        ]),\n",
              " array([2.05480467, 2.49443826, 0.81649658]))"
            ]
          },
          "metadata": {},
          "execution_count": 133
        }
      ]
    },
    {
      "cell_type": "code",
      "source": [
        "# row-wise (mean, std)\n",
        "np.mean(matrix, axis=1), np.std(matrix, axis=1)"
      ],
      "metadata": {
        "colab": {
          "base_uri": "https://localhost:8080/"
        },
        "id": "4P8PQsEyXgx9",
        "outputId": "b7fcf241-ff5b-424c-93c1-dd86877f9ea2"
      },
      "execution_count": 134,
      "outputs": [
        {
          "output_type": "execute_result",
          "data": {
            "text/plain": [
              "(array([2., 5., 1.]), array([0.81649658, 0.81649658, 2.1602469 ]))"
            ]
          },
          "metadata": {},
          "execution_count": 134
        }
      ]
    },
    {
      "cell_type": "markdown",
      "source": [
        "**Reshaping an Arrays/Matrix**"
      ],
      "metadata": {
        "id": "LzF03oX7Lh3-"
      }
    },
    {
      "cell_type": "code",
      "source": [
        "matrix.reshape(9, 1)"
      ],
      "metadata": {
        "colab": {
          "base_uri": "https://localhost:8080/"
        },
        "id": "zhQ-y6l3Lkgc",
        "outputId": "51f4a0a7-b9d5-4d36-9ff9-f1f6857407be"
      },
      "execution_count": 135,
      "outputs": [
        {
          "output_type": "execute_result",
          "data": {
            "text/plain": [
              "array([[ 1],\n",
              "       [ 2],\n",
              "       [ 3],\n",
              "       [ 4],\n",
              "       [ 6],\n",
              "       [ 5],\n",
              "       [-1],\n",
              "       [ 0],\n",
              "       [ 4]])"
            ]
          },
          "metadata": {},
          "execution_count": 135
        }
      ]
    },
    {
      "cell_type": "code",
      "source": [
        "matrix.flatten()"
      ],
      "metadata": {
        "colab": {
          "base_uri": "https://localhost:8080/"
        },
        "id": "AqQQZ40oLoMe",
        "outputId": "a6ba5df4-7420-49eb-c60f-fc3542d95043"
      },
      "execution_count": 136,
      "outputs": [
        {
          "output_type": "execute_result",
          "data": {
            "text/plain": [
              "array([ 1,  2,  3,  4,  6,  5, -1,  0,  4])"
            ]
          },
          "metadata": {},
          "execution_count": 136
        }
      ]
    },
    {
      "cell_type": "markdown",
      "source": [
        "**Transposing a matrix**"
      ],
      "metadata": {
        "id": "IovmhndbMAry"
      }
    },
    {
      "cell_type": "code",
      "source": [
        "matrix.T"
      ],
      "metadata": {
        "colab": {
          "base_uri": "https://localhost:8080/"
        },
        "id": "vGevcBNLLzyW",
        "outputId": "a55d2a44-f04c-483d-ca47-ecd4914b17a1"
      },
      "execution_count": 137,
      "outputs": [
        {
          "output_type": "execute_result",
          "data": {
            "text/plain": [
              "array([[ 1,  4, -1],\n",
              "       [ 2,  6,  0],\n",
              "       [ 3,  5,  4]])"
            ]
          },
          "metadata": {},
          "execution_count": 137
        }
      ]
    },
    {
      "cell_type": "code",
      "source": [
        "matrix"
      ],
      "metadata": {
        "colab": {
          "base_uri": "https://localhost:8080/"
        },
        "id": "SAqNQGiGUsn-",
        "outputId": "5f059f00-c52f-4fa8-8b19-95612ddef46f"
      },
      "execution_count": 138,
      "outputs": [
        {
          "output_type": "execute_result",
          "data": {
            "text/plain": [
              "array([[ 1,  2,  3],\n",
              "       [ 4,  6,  5],\n",
              "       [-1,  0,  4]])"
            ]
          },
          "metadata": {},
          "execution_count": 138
        }
      ]
    },
    {
      "cell_type": "markdown",
      "source": [
        "\n",
        "---\n",
        "\n",
        "---\n",
        "\n"
      ],
      "metadata": {
        "id": "gcWCY2yRaXRU"
      }
    },
    {
      "cell_type": "markdown",
      "source": [
        "# Lets practice"
      ],
      "metadata": {
        "id": "D-4tV2GbYCvy"
      }
    },
    {
      "cell_type": "markdown",
      "source": [
        "**Dot product of vectors**"
      ],
      "metadata": {
        "id": "eC017k9gMIS0"
      }
    },
    {
      "cell_type": "code",
      "source": [
        "x, y = matrix[:, 0], matrix[:, 1]\n",
        "x, y"
      ],
      "metadata": {
        "colab": {
          "base_uri": "https://localhost:8080/"
        },
        "id": "9p3GXIJUX1EG",
        "outputId": "27ed1b13-149c-4c78-e178-82aa9657564b"
      },
      "execution_count": 139,
      "outputs": [
        {
          "output_type": "execute_result",
          "data": {
            "text/plain": [
              "(array([ 1,  4, -1]), array([2, 6, 0]))"
            ]
          },
          "metadata": {},
          "execution_count": 139
        }
      ]
    },
    {
      "cell_type": "markdown",
      "source": [
        "**Q. What would be the dot product of x, and y?**"
      ],
      "metadata": {
        "id": "d6TMyonQYM7Z"
      }
    },
    {
      "cell_type": "code",
      "source": [
        "np.dot(x, y)"
      ],
      "metadata": {
        "id": "eRchT4RPMDr-",
        "colab": {
          "base_uri": "https://localhost:8080/"
        },
        "outputId": "4c89d043-0ebd-477a-cd22-1190827cfc89"
      },
      "execution_count": 140,
      "outputs": [
        {
          "output_type": "execute_result",
          "data": {
            "text/plain": [
              "np.int64(26)"
            ]
          },
          "metadata": {},
          "execution_count": 140
        }
      ]
    },
    {
      "cell_type": "markdown",
      "source": [
        "**Q. What will be output of x + y?**"
      ],
      "metadata": {
        "id": "0ZITGEpGZ506"
      }
    },
    {
      "cell_type": "code",
      "source": [
        "x + y"
      ],
      "metadata": {
        "id": "_lbyqNosMRNu",
        "colab": {
          "base_uri": "https://localhost:8080/"
        },
        "outputId": "3d99b65a-28cf-4e75-bc90-49f75d8f041c"
      },
      "execution_count": 141,
      "outputs": [
        {
          "output_type": "execute_result",
          "data": {
            "text/plain": [
              "array([ 3, 10, -1])"
            ]
          },
          "metadata": {},
          "execution_count": 141
        }
      ]
    },
    {
      "cell_type": "markdown",
      "source": [
        "**Q. What will the output if we multiply matrix with itself?**"
      ],
      "metadata": {
        "id": "kJESxoQ9Mp4p"
      }
    },
    {
      "cell_type": "code",
      "source": [
        "np.dot(matrix, matrix)"
      ],
      "metadata": {
        "id": "U1Z5wvIAMWeg",
        "colab": {
          "base_uri": "https://localhost:8080/"
        },
        "outputId": "40e15193-243d-42e4-e4e3-56ffe2cfbf72"
      },
      "execution_count": 142,
      "outputs": [
        {
          "output_type": "execute_result",
          "data": {
            "text/plain": [
              "array([[ 6, 14, 25],\n",
              "       [23, 44, 62],\n",
              "       [-5, -2, 13]])"
            ]
          },
          "metadata": {},
          "execution_count": 142
        }
      ]
    },
    {
      "cell_type": "markdown",
      "source": [],
      "metadata": {
        "id": "pZIZFZ6GaGih"
      }
    },
    {
      "cell_type": "markdown",
      "source": [
        "# **Generating Random Numbers**\n",
        "You will use it to for many cases such as :\n",
        "\n",
        "*   Synthetic data (you don't necessarily wait long for real data to arrive)\n",
        "*   Random Sample from known distibutions **bold text**\n",
        "\n"
      ],
      "metadata": {
        "id": "mXNaoDgbMxRS"
      }
    },
    {
      "cell_type": "code",
      "source": [
        "# Set a seed\n",
        "np.random.seed(0)\n",
        "# Generate three random floats between 0.0 and 1.0\n",
        "np.random.random(3)"
      ],
      "metadata": {
        "colab": {
          "base_uri": "https://localhost:8080/"
        },
        "id": "g2fpVyalM0CX",
        "outputId": "194b7a15-6e70-41bb-9895-8050037d3cb7"
      },
      "execution_count": 143,
      "outputs": [
        {
          "output_type": "execute_result",
          "data": {
            "text/plain": [
              "array([0.5488135 , 0.71518937, 0.60276338])"
            ]
          },
          "metadata": {},
          "execution_count": 143
        }
      ]
    },
    {
      "cell_type": "code",
      "source": [
        "# Generate a 3x3 matrix with random floats between 0.0 and 1.0\n",
        "data_sample = np.random.random((3, 3))\n",
        "data_sample"
      ],
      "metadata": {
        "colab": {
          "base_uri": "https://localhost:8080/"
        },
        "id": "RsyrCpKWM2vE",
        "outputId": "afb5215b-e042-499c-b55c-5e66765c0156"
      },
      "execution_count": 144,
      "outputs": [
        {
          "output_type": "execute_result",
          "data": {
            "text/plain": [
              "array([[0.54488318, 0.4236548 , 0.64589411],\n",
              "       [0.43758721, 0.891773  , 0.96366276],\n",
              "       [0.38344152, 0.79172504, 0.52889492]])"
            ]
          },
          "metadata": {},
          "execution_count": 144
        }
      ]
    },
    {
      "cell_type": "code",
      "source": [
        "# rounding operation\n",
        "np.round(data_sample.mean(), 2), np.round(data_sample.std(), 2)"
      ],
      "metadata": {
        "colab": {
          "base_uri": "https://localhost:8080/"
        },
        "id": "tYAU_H2QFCbj",
        "outputId": "be419ea2-0dd3-464e-bdd2-a6e702395dcb"
      },
      "execution_count": 145,
      "outputs": [
        {
          "output_type": "execute_result",
          "data": {
            "text/plain": [
              "(np.float64(0.62), np.float64(0.2))"
            ]
          },
          "metadata": {},
          "execution_count": 145
        }
      ]
    },
    {
      "cell_type": "markdown",
      "source": [
        "**Generating random integer data**"
      ],
      "metadata": {
        "id": "BFTne7GFWJdz"
      }
    },
    {
      "cell_type": "code",
      "source": [
        "# Generate three random integers between 0 and 10\n",
        "np.random.randint(0, 11, 3)"
      ],
      "metadata": {
        "colab": {
          "base_uri": "https://localhost:8080/"
        },
        "id": "Z2rWYEWKM6uZ",
        "outputId": "ad38d656-ad7b-4dc1-f1e8-523ee6cbde68"
      },
      "execution_count": 146,
      "outputs": [
        {
          "output_type": "execute_result",
          "data": {
            "text/plain": [
              "array([8, 1, 5])"
            ]
          },
          "metadata": {},
          "execution_count": 146
        }
      ]
    },
    {
      "cell_type": "code",
      "source": [
        "# Draw three numbers from a normal distribution with mean 0.0\n",
        "# and standard deviation of 1.0\n",
        "np.random.normal(0.0, 1.0, 3)"
      ],
      "metadata": {
        "colab": {
          "base_uri": "https://localhost:8080/"
        },
        "id": "Yt-K2e2lM9pE",
        "outputId": "4a545d92-a824-4598-c5e9-62a1b427f86f"
      },
      "execution_count": 147,
      "outputs": [
        {
          "output_type": "execute_result",
          "data": {
            "text/plain": [
              "array([-0.470771  ,  0.973016  , -1.27814912])"
            ]
          },
          "metadata": {},
          "execution_count": 147
        }
      ]
    },
    {
      "cell_type": "markdown",
      "source": [
        "**Likewise you can sample random numbers from most well known probability distributions**"
      ],
      "metadata": {
        "id": "M94-7filaVgf"
      }
    },
    {
      "cell_type": "code",
      "source": [
        "# square root\n",
        "np.sqrt(29)"
      ],
      "metadata": {
        "colab": {
          "base_uri": "https://localhost:8080/"
        },
        "id": "Q0bkJR7KGLiI",
        "outputId": "c9ac81e1-e957-4bbd-ff3b-d01e96bd3d65"
      },
      "execution_count": 148,
      "outputs": [
        {
          "output_type": "execute_result",
          "data": {
            "text/plain": [
              "np.float64(5.385164807134504)"
            ]
          },
          "metadata": {},
          "execution_count": 148
        }
      ]
    },
    {
      "cell_type": "markdown",
      "source": [
        "## Distance Metrics"
      ],
      "metadata": {
        "id": "g4Q3YxH_1rHH"
      }
    },
    {
      "cell_type": "code",
      "source": [
        "from sklearn.metrics.pairwise import euclidean_distances\n",
        "from sklearn.metrics.pairwise import manhattan_distances\n",
        "from sklearn.metrics.pairwise import cosine_similarity"
      ],
      "metadata": {
        "id": "Z_J1vwCN_QhT"
      },
      "execution_count": 149,
      "outputs": []
    },
    {
      "cell_type": "code",
      "source": [
        "query_point = [[0, 1, 0]]"
      ],
      "metadata": {
        "id": "SC2h8w2H2nJK"
      },
      "execution_count": 150,
      "outputs": []
    },
    {
      "cell_type": "code",
      "source": [
        "l2 = euclidean_distances(data_sample, query_point)\n",
        "l2"
      ],
      "metadata": {
        "colab": {
          "base_uri": "https://localhost:8080/"
        },
        "id": "21oXBpVY1zsh",
        "outputId": "b7cc7f19-34f6-4d13-d112-3957d4621dfb"
      },
      "execution_count": 151,
      "outputs": [
        {
          "output_type": "execute_result",
          "data": {
            "text/plain": [
              "array([[1.02286396],\n",
              "       [1.06388043],\n",
              "       [0.68566442]])"
            ]
          },
          "metadata": {},
          "execution_count": 151
        }
      ]
    },
    {
      "cell_type": "code",
      "source": [
        "np.argmin(l2)"
      ],
      "metadata": {
        "colab": {
          "base_uri": "https://localhost:8080/"
        },
        "id": "BSnYktDB16a_",
        "outputId": "208d0d28-b39b-43e9-97d3-d47b17742e0b"
      },
      "execution_count": 152,
      "outputs": [
        {
          "output_type": "execute_result",
          "data": {
            "text/plain": [
              "np.int64(2)"
            ]
          },
          "metadata": {},
          "execution_count": 152
        }
      ]
    },
    {
      "cell_type": "code",
      "source": [
        "cosine = 1 - cosine_similarity(data_sample, query_point)"
      ],
      "metadata": {
        "id": "ysuUudD32A-f"
      },
      "execution_count": 153,
      "outputs": []
    },
    {
      "cell_type": "code",
      "source": [
        "cosine"
      ],
      "metadata": {
        "colab": {
          "base_uri": "https://localhost:8080/"
        },
        "id": "19QFIjiV2d2C",
        "outputId": "edb40022-3242-4ce8-ac95-5e068e9aa8fd"
      },
      "execution_count": 154,
      "outputs": [
        {
          "output_type": "execute_result",
          "data": {
            "text/plain": [
              "array([[0.55182234],\n",
              "       [0.35564384],\n",
              "       [0.22867141]])"
            ]
          },
          "metadata": {},
          "execution_count": 154
        }
      ]
    },
    {
      "cell_type": "code",
      "source": [
        "np.argmin(cosine)"
      ],
      "metadata": {
        "colab": {
          "base_uri": "https://localhost:8080/"
        },
        "id": "IAf4Q66U2gww",
        "outputId": "cec4ffb1-871f-4e10-b8ca-7b4ffde5d58a"
      },
      "execution_count": 155,
      "outputs": [
        {
          "output_type": "execute_result",
          "data": {
            "text/plain": [
              "np.int64(2)"
            ]
          },
          "metadata": {},
          "execution_count": 155
        }
      ]
    },
    {
      "cell_type": "code",
      "source": [],
      "metadata": {
        "id": "_N3L4sxK2zKP"
      },
      "execution_count": 155,
      "outputs": []
    }
  ]
}
{
  "nbformat": 4,
  "nbformat_minor": 0,
  "metadata": {
    "colab": {
      "provenance": [],
      "include_colab_link": true
    },
    "kernelspec": {
      "name": "python3",
      "display_name": "Python 3"
    },
    "language_info": {
      "name": "python"
    }
  },
  "cells": [
    {
      "cell_type": "markdown",
      "metadata": {
        "id": "view-in-github",
        "colab_type": "text"
      },
      "source": [
        "<a href=\"https://colab.research.google.com/github/ramana3070/Houseprice_prediction_final/blob/main/notebooks/supervised/excercise_build_your_classification_pipeline.ipynb\" target=\"_parent\"><img src=\"https://colab.research.google.com/assets/colab-badge.svg\" alt=\"Open In Colab\"/></a>"
      ]
    },
    {
      "cell_type": "markdown",
      "source": [
        "We have talked about the following classification models.\n",
        "\n",
        " *   kNN\n",
        " *   Logistic Rregression (LR)\n",
        " *   Decision Tree\n",
        " *   Random Forest (RF)\n",
        " *   Boosting\n",
        "\n",
        "\n",
        "In this exercise, you will build a classification pipeline using a model of your choice and evaluate its accuracy. While training and testing your model, you are free to select any data-splitting criteria that best suit your approach.\n",
        "\n",
        "\n",
        "*Note: We have performed the packages and data loading part for you already.*"
      ],
      "metadata": {
        "id": "FBRyAWfz-KuJ"
      }
    },
    {
      "cell_type": "markdown",
      "source": [
        "## Importing packages"
      ],
      "metadata": {
        "id": "NS8Qv3onhfiV"
      }
    },
    {
      "cell_type": "code",
      "execution_count": null,
      "metadata": {
        "id": "03-NXl9m_dPA"
      },
      "outputs": [],
      "source": [
        "import numpy as np\n",
        "import pandas as pd\n",
        "\n",
        "# Models (Sklearn)\n",
        "from sklearn.neighbors import KNeighborsClassifier\n",
        "from sklearn.tree import DecisionTreeClassifier\n",
        "from sklearn.linear_model import LogisticRegression\n",
        "from sklearn.ensemble import RandomForestClassifier, GradientBoostingClassifier\n",
        "\n",
        "# Data and Evaluation packages\n",
        "from sklearn.datasets import load_digits\n",
        "from sklearn.metrics import accuracy_score\n",
        "# visualization\n",
        "import plotly.express as px"
      ]
    },
    {
      "cell_type": "markdown",
      "source": [
        "## Data loading"
      ],
      "metadata": {
        "id": "_fIATNfzhbbC"
      }
    },
    {
      "cell_type": "code",
      "source": [
        "X, y = load_digits(return_X_y=True)\n",
        "X.shape, y.shape"
      ],
      "metadata": {
        "id": "NBfvYkH5LSEW"
      },
      "execution_count": null,
      "outputs": []
    }
  ]
}